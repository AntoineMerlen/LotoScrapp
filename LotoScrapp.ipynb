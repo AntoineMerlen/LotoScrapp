{
 "cells": [
  {
   "cell_type": "code",
   "execution_count": 2,
   "metadata": {},
   "outputs": [
    {
     "name": "stdout",
     "output_type": "stream",
     "text": [
      "Initialized empty Git repository in /Users/Antoine/Documents/Cours/Master 2/LotoScrappTD/.git/\r\n"
     ]
    }
   ],
   "source": [
    "!git init"
   ]
  },
  {
   "cell_type": "code",
   "execution_count": 3,
   "metadata": {},
   "outputs": [],
   "source": [
    "!git add LotoScrapp.ipynb"
   ]
  },
  {
   "cell_type": "code",
   "execution_count": 4,
   "metadata": {},
   "outputs": [
    {
     "name": "stdout",
     "output_type": "stream",
     "text": [
      "[master (root-commit) 2831503] First commit\r\n",
      " 1 file changed, 94 insertions(+)\r\n",
      " create mode 100644 LotoScrapp.ipynb\r\n"
     ]
    }
   ],
   "source": [
    "!git commit -m \"First commit\""
   ]
  },
  {
   "cell_type": "code",
   "execution_count": 5,
   "metadata": {},
   "outputs": [],
   "source": [
    "!git remote add origin git@github.com:AntoineMerlen/LotoScrapp.git"
   ]
  },
  {
   "cell_type": "code",
   "execution_count": 6,
   "metadata": {},
   "outputs": [
    {
     "name": "stdout",
     "output_type": "stream",
     "text": [
      "Counting objects: 3, done.\n",
      "Delta compression using up to 8 threads.\n",
      "Compressing objects: 100% (2/2), done.\n",
      "Writing objects: 100% (3/3), 794 bytes | 0 bytes/s, done.\n",
      "Total 3 (delta 0), reused 0 (delta 0)\n",
      "To github.com:AntoineMerlen/LotoScrapp.git\n",
      " * [new branch]      master -> master\n"
     ]
    }
   ],
   "source": [
    "!git push origin master"
   ]
  },
  {
   "cell_type": "code",
   "execution_count": 45,
   "metadata": {},
   "outputs": [
    {
     "name": "stdout",
     "output_type": "stream",
     "text": [
      "['19', '33', '41', '24', '27']\n",
      "['9']\n",
      "['47', '22', '24', '12', '38']\n",
      "['1']\n",
      "['43', '5', '23', '49', '17']\n",
      "['4']\n",
      "['43', '49', '46', '34', '11']\n",
      "['3']\n",
      "['3', '36', '30', '16', '24']\n",
      "['9']\n",
      "['21', '22', '31', '33', '37']\n",
      "['4']\n",
      "['6', '26', '34', '37', '39']\n",
      "['7']\n",
      "['12', '28', '31', '32', '48']\n",
      "['3']\n",
      "['10', '19', '37', '44', '46']\n",
      "['10']\n",
      "['11', '19', '31', '38', '40']\n",
      "['5']\n",
      "['7', '9', '10', '14', '43']\n",
      "['1']\n",
      "['2', '12', '26', '29', '36']\n",
      "['7']\n"
     ]
    }
   ],
   "source": [
    "from ast import literal_eval\n",
    "from bs4 import BeautifulSoup\n",
    "import numpy as np\n",
    "import pandas as pd\n",
    "import requests as req\n",
    "import datetime\n",
    "\n",
    "now = datetime.datetime.now()\n",
    "for i in range(2008,now.year+1):\n",
    "    url = \"http://www.lototest.com/visite.php?pag=cid500_annee&idf=1&idd=\"+str(i)+\"&\"\n",
    "    \n",
    "    #if output_req.status_code == 200:\n",
    "        #print(\"Scrap Ok\")\n",
    "\n",
    "    output_req = req.get(url)\n",
    "    html = BeautifulSoup(output_req.content, 'html.parser')\n",
    "    \n",
    "    date = [date.get_text() for date in html.select('big')][3:-1]\n",
    "    chiffres = [chiffres.get_text() for chiffres in html.select('span.t7')][0:5:1]\n",
    "    chiffreChance = [chiffres.get_text() for chiffres in html.select('span.t8')][0:1:1]\n",
    "    \n",
    "    print(chiffres)\n",
    "    print(chiffreChance)\n",
    "    "
   ]
  },
  {
   "cell_type": "code",
   "execution_count": null,
   "metadata": {},
   "outputs": [],
   "source": []
  }
 ],
 "metadata": {
  "kernelspec": {
   "display_name": "Python 3",
   "language": "python",
   "name": "python3"
  },
  "language_info": {
   "codemirror_mode": {
    "name": "ipython",
    "version": 3
   },
   "file_extension": ".py",
   "mimetype": "text/x-python",
   "name": "python",
   "nbconvert_exporter": "python",
   "pygments_lexer": "ipython3",
   "version": "3.7.4"
  }
 },
 "nbformat": 4,
 "nbformat_minor": 2
}
